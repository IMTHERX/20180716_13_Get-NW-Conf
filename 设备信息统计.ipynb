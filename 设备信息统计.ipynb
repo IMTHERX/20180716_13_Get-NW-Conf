{
 "cells": [
  {
   "cell_type": "markdown",
   "metadata": {},
   "source": [
    "近期公司内部，经常会因为客户的紧急需求，需要拉取全部设备的信息。\n",
    "在我们的配置存储格式中，会有许许多多的config，如果每次都需要自己手动去整理的话，非常的麻烦。所以我希望能够将它们的一些信息整理成表格列出来。\n",
    "\n",
    "思路：\n",
    "1.读取目录下的所有配置文件名，例 20180128 shcesw2A 与 20180129 shcesw2A；\n",
    "我希望通过统一的命名格式，通过**设备名**，确认同设备，再通过**日期**来判断配置新旧。进行信息的筛选。\n",
    "\n",
    "2.通过配置筛选出各个厂商对应的关键信息，具体如下：\n",
    "设备地点，楼层，房间，设备型号，环境，主机名，厂商EOL，SN，后续型号，L3链接信息；\n",
    "\n",
    "3.将信息筛选完毕后，逐一输出；"
   ]
  },
  {
   "cell_type": "code",
   "execution_count": 10,
   "metadata": {},
   "outputs": [
    {
     "name": "stdout",
     "output_type": "stream",
     "text": [
      "O:\\py\\Device1.py,O:\\py\\lv7.py,O:\\py\\test_commands.csv,O:\\py\\test_devices.csv,O:\\py\\I-01\\20160409_L21c.txt,O:\\py\\I-01\\20160559_L21c.txt,O:\\py\\J-01\\20180923_L33c.txt,O:\\py\\J-01\\20181111_L33c.txt,O:\\py\\T-05\\20160666_RT1.txt,O:\\py\\T-05\\20199999_RT1.txt\n"
     ]
    }
   ],
   "source": [
    "import os\n",
    "import numpy as np\n",
    "import textfsm\n",
    "import csv\n",
    "def get_path(path):\n",
    "    #申明全局\n",
    "    global all_path\n",
    "    for root, dirs, files in os.walk(path):\n",
    "        for filepath in files:\n",
    "            #print(os.path.join(root, filepath))\n",
    "            all_path.append(os.path.join(root, filepath))\n",
    "            \n",
    "if __name__ == \"__main__\":\n",
    "    path = \"O:\\py\" \n",
    "all_path=[]\n",
    "get_path(path)\n",
    "path_t_all = []\n",
    "all_path_str = ','.join(all_path)\n",
    "print(all_path_str)"
   ]
  },
  {
   "cell_type": "code",
   "execution_count": 11,
   "metadata": {
    "scrolled": true
   },
   "outputs": [
    {
     "name": "stdout",
     "output_type": "stream",
     "text": [
      "date:--- 20160409\n",
      "hostname:--- L21c\n",
      "完整:--- 20160409_L21c\n",
      "date:--- 20160559\n",
      "hostname:--- L21c\n",
      "完整:--- 20160559_L21c\n",
      "date:--- 20180923\n",
      "hostname:--- L33c\n",
      "完整:--- 20180923_L33c\n",
      "date:--- 20181111\n",
      "hostname:--- L33c\n",
      "完整:--- 20181111_L33c\n",
      "date:--- 20160666\n",
      "hostname:--- RT1\n",
      "完整:--- 20160666_RT1\n",
      "date:--- 20199999\n",
      "hostname:--- RT1\n",
      "完整:--- 20199999_RT1\n"
     ]
    }
   ],
   "source": [
    "def export(now):   \n",
    "    #筛选所有的设备list\n",
    "    global all_device\n",
    "    global all_device_date\n",
    "    global all_device_device\n",
    "    link_start=now.find('20')\n",
    "    link_end=now.find('_',link_start)\n",
    "   \n",
    "    name_start=now.find('_',link_start-1)\n",
    "    name_end=now.find('.txt',name_start)\n",
    "    \n",
    "    if now[link_start:link_end].startswith(\"20\"): \n",
    "        #print(now[link_start:link_end]+now[name_start+1:name_end])          \n",
    "        print('date:---',now[link_start:link_end])\n",
    "        print('hostname:---',now[name_start+1:name_end])    \n",
    "        print('完整:---',now[link_start:link_end]+now[name_start:name_end])\n",
    "        all_device_date.append(now[link_start:link_end])\n",
    "        all_device_device.append(now[name_start+1:name_end])\n",
    "        all_device.append(now[link_start:link_end]+now[name_start:name_end])\n",
    "        return name_end                          \n",
    "    else:\n",
    "        return -1    \n",
    "label=0\n",
    "path_t = []\n",
    "all_device = []\n",
    "all_device_date = [] \n",
    "all_device_device = []\n",
    "nput_text = 0\n",
    "row_all = []\n",
    "\n",
    "while True:\n",
    "    all_path_str=all_path_str[label:]\n",
    "    label=export(all_path_str)\n",
    "    if label == -1:\n",
    "            break;"
   ]
  },
  {
   "cell_type": "code",
   "execution_count": 12,
   "metadata": {},
   "outputs": [
    {
     "name": "stdout",
     "output_type": "stream",
     "text": [
      "6['O:\\\\py\\\\I-01\\\\20160409_L21c.txt', 'O:\\\\py\\\\I-01\\\\20160559_L21c.txt', 'O:\\\\py\\\\J-01\\\\20180923_L33c.txt', 'O:\\\\py\\\\J-01\\\\20181111_L33c.txt', 'O:\\\\py\\\\T-05\\\\20160666_RT1.txt', 'O:\\\\py\\\\T-05\\\\20199999_RT1.txt']\n",
      "6['L21c', 'L21c', 'L33c', 'L33c', 'RT1', 'RT1']\n"
     ]
    }
   ],
   "source": [
    "#print(all_device)\n",
    "#print(all_path_str)\n",
    "#筛选出对应config的对应path\n",
    "#all_path = all_path.split(\",\")\n",
    "#print(all_path)\n",
    "#all_path_ = all_path.replace(\"\\\\\", \"\\\")\n",
    "\n",
    "\n",
    "for i in range (0,len(all_device)):    \n",
    "    for j in range (0,len(all_path)):\n",
    "        if all_device[i] in all_path[j]:\n",
    "            path_t.append(all_path[j])\n",
    "        else:\n",
    "            pass\n",
    "print(str(len(path_t))+str(path_t))\n",
    "print(str(len(all_device_device))+str(all_device_device))\n",
    " "
   ]
  },
  {
   "cell_type": "code",
   "execution_count": 13,
   "metadata": {},
   "outputs": [
    {
     "name": "stdout",
     "output_type": "stream",
     "text": [
      "['O:\\\\py\\\\I-01\\\\20160559_L21c.txt', 'O:\\\\py\\\\J-01\\\\20181111_L33c.txt', 'O:\\\\py\\\\T-05\\\\20199999_RT1.txt']\n"
     ]
    }
   ],
   "source": [
    "#踢出old的配置文件，暂未解决\n",
    "for i in range(0,len(path_t)):\n",
    "    #print(\"*\",all_device)\n",
    "    #print(\"*\",all_device_date)\n",
    "    #print(\"*\",all_device_device)\n",
    "    #print(\"&\",path_t)\n",
    "    global path_t_all\n",
    "    type(path_t_all)\n",
    "    \n",
    "    if (len(path_t) == 0):\n",
    "        pass\n",
    "    while all_device_device[i] == all_device_device[i-1]:\n",
    "        #print(all_device_date[i]+\"\\n\"+all_device_date[i-1])\n",
    "        if all_device_date[i] <= all_device_date[i-1]:\n",
    "            #all_device_device.pop(i)\n",
    "            path_t_all.append(path_t[i-1])\n",
    "        else:\n",
    "            #all_device_device.pop(i-1)\n",
    "            #path_t.pop(i-1)\n",
    "            path_t_all.append(path_t[i])\n",
    "            break\n",
    "    else:\n",
    "        pass\n",
    "print(path_t_all)"
   ]
  },
  {
   "cell_type": "code",
   "execution_count": 14,
   "metadata": {
    "scrolled": true
   },
   "outputs": [
    {
     "name": "stdout",
     "output_type": "stream",
     "text": [
      "['L21c', 'L21c', 'L33c', 'L33c', 'RT1', 'RT1']\n",
      "['O:\\\\py\\\\I-01\\\\20160559_L21c.txt', 'O:\\\\py\\\\J-01\\\\20181111_L33c.txt', 'O:\\\\py\\\\T-05\\\\20199999_RT1.txt']\n",
      "['L21', 'FOC1966666', 'WS-C2960+24TC-L', '15.2(1)E', 'flash:/c2960-lanbasek9-mz.152-1.E.bin']\n",
      "['L33', 'FO7777777', 'WS-C2960S-24TS-L', '12.2(58)SE1', 'flash:/c2960s-universalk9-mz.122-58.SE1.bin']\n",
      "['router1', 'FGL19999999', 'CISCO2901/K9', '15.1(4)M3', 'flash0:c2900-universalk9-mz.SPA.151-4.M3.bin']\n"
     ]
    }
   ],
   "source": [
    "#根据目录读取txt\n",
    "print(all_device_device)\n",
    "print(path_t_all)\n",
    "out = open('Z:\\\\common\\\\006 Lab\\\\NetDevOps\\\\13网络设备的配置管理\\\\export_config.csv','w',newline='')#这种方式会覆盖之前的内容。\n",
    "csv_writer = csv.writer(out)\n",
    "         \n",
    "        #print(row_all)\n",
    "for i in range(0,len(path_t_all)):\n",
    "    global row_all\n",
    "    TEMP_FILE=\"Z:\\\\common\\\\006 Lab\\\\NetDevOps\\\\13网络设备的配置管理\\\\textFSM.cfg\" \n",
    "    INPUT_FILE=str(path_t_all[i])\n",
    "    #打开模版文件，并且初始化FSM类\n",
    "    fsm = textfsm.TextFSM(open(TEMP_FILE))\n",
    "    input_text = open(INPUT_FILE).read()\n",
    "    #使用parseText方式解析文件\n",
    "    fsm_results = fsm.ParseText(input_text)\n",
    "    #print(fsm.header)\n",
    "    for row in fsm_results:\n",
    "        print(row)         \n",
    "        csv_writer.writerow(row)\n",
    "        \n",
    "out.close()"
   ]
  },
  {
   "cell_type": "code",
   "execution_count": null,
   "metadata": {
    "collapsed": true
   },
   "outputs": [],
   "source": []
  }
 ],
 "metadata": {
  "kernelspec": {
   "display_name": "Python 3",
   "language": "python",
   "name": "python3"
  },
  "language_info": {
   "codemirror_mode": {
    "name": "ipython",
    "version": 3
   },
   "file_extension": ".py",
   "mimetype": "text/x-python",
   "name": "python",
   "nbconvert_exporter": "python",
   "pygments_lexer": "ipython3",
   "version": "3.6.3"
  }
 },
 "nbformat": 4,
 "nbformat_minor": 2
}
