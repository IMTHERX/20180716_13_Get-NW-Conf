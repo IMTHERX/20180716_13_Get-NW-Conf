{
 "cells": [
  {
   "cell_type": "markdown",
   "metadata": {},
   "source": [
    "近期公司内部，经常会因为客户的紧急需求，需要拉取全部设备的信息。\n",
    "在我们的配置存储格式中，会有许许多多的config，如果每次都需要自己手动去整理的话，非常的麻烦。所以我希望能够将它们的一些信息整理成表格列出来。\n",
    "\n",
    "思路：\n",
    "1.读取目录下的所有配置文件名，例 20180128 shcesw2A 与 20180129 shcesw2A；\n",
    "我希望通过统一的命名格式，通过**设备名**，确认同设备，再通过**日期**来判断配置新旧。进行信息的筛选。\n",
    "\n",
    "2.通过配置筛选出各个厂商对应的关键信息，具体如下：\n",
    "设备地点，楼层，房间，设备型号，环境，主机名，厂商EOL，SN，后续型号，L3链接信息；\n",
    "\n",
    "3.将信息筛选完毕后，逐一输出；"
   ]
  },
  {
   "cell_type": "code",
   "execution_count": 643,
   "metadata": {},
   "outputs": [
    {
     "name": "stdout",
     "output_type": "stream",
     "text": [
      "O:\\py\\Device1.py,O:\\py\\lv7.py,O:\\py\\test_commands.csv,O:\\py\\test_devices.csv,O:\\py\\I-01\\20180111_mufgSecuFw1Shc.txt,O:\\py\\J-01\\20180421_shcesw11.txt,O:\\py\\T-05\\20180723_mufgSecuFw1Shc.txt\n"
     ]
    }
   ],
   "source": [
    "import os\n",
    "import numpy as np\n",
    "def get_path(path):\n",
    "    #申明全局\n",
    "    global all_path\n",
    "    for root, dirs, files in os.walk(path):\n",
    "        for filepath in files:\n",
    "            #print(os.path.join(root, filepath))\n",
    "            all_path.append(os.path.join(root, filepath))\n",
    "            \n",
    "if __name__ == \"__main__\":\n",
    "    path = \"O:\\py\" \n",
    "all_path=[]\n",
    "get_path(path)\n",
    "all_path_str = ','.join(all_path)\n",
    "print(all_path_str)"
   ]
  },
  {
   "cell_type": "code",
   "execution_count": 644,
   "metadata": {
    "scrolled": true
   },
   "outputs": [
    {
     "name": "stdout",
     "output_type": "stream",
     "text": [
      "20180111\n",
      "mufgSecuFw1Shc\n",
      "20180421\n",
      "shcesw11\n",
      "20180723\n",
      "mufgSecuFw1Shc\n"
     ]
    }
   ],
   "source": [
    "def export(now):   \n",
    "    #筛选所有的设备list\n",
    "    global all_device\n",
    "    global all_device_date\n",
    "    global all_device_device\n",
    "    link_start=now.find('20')\n",
    "    link_end=now.find('_',link_start)\n",
    "   \n",
    "    name_start=now.find('_',link_start-1)\n",
    "    name_end=now.find('.txt',name_start)\n",
    "    \n",
    "    if now[link_start:link_end].startswith(\"20\"): #创建判断条件,如果在函数now(之后调用的page_hero)中,包括\"http\"\n",
    "        #print(now[link_start:link_end]+now[name_start+1:name_end])           #则输出1\n",
    "        print(now[link_start:link_end])\n",
    "        print(now[name_start+1:name_end])        #输出2\n",
    "        all_device_date.append(now[link_start:link_end])\n",
    "        all_device_device.append(now[name_start+1:name_end])\n",
    "        all_device.append(now[link_start:link_end]+now[name_start:name_end])\n",
    "        return name_end                          #返回值为 name_end (新的起始位置)\n",
    "    else:\n",
    "        return -1    \n",
    "label=0\n",
    "path_t = []\n",
    "all_device = []\n",
    "all_device_date = [] \n",
    "all_device_device = []\n",
    "while True:\n",
    "    all_path_str=all_path_str[label:]\n",
    "    label=export(all_path_str)\n",
    "    if label == -1:\n",
    "            break;"
   ]
  },
  {
   "cell_type": "code",
   "execution_count": 645,
   "metadata": {},
   "outputs": [
    {
     "data": {
      "text/plain": [
       "'for i in range(0,len(all_device)):\\n    print(\"*\",all_device)\\n    print(\"*\",all_device_date)\\n    print(\"*\",all_device_device)\\n    while i != len(all_device) and all_device_device[i] == all_device_device[i+1]:\\n        if all_device_date[i] >= all_device_date[i+1]:\\n            all_device_device.pop[i+1]\\n        else:\\n            all_device_device.pop[i]\\n    else:\\n        pass\\n    print(all_device_device)'"
      ]
     },
     "execution_count": 645,
     "metadata": {},
     "output_type": "execute_result"
    }
   ],
   "source": [
    "#踢出old的配置文件\n",
    "'''for i in range(0,len(all_device)):\n",
    "    print(\"*\",all_device)\n",
    "    print(\"*\",all_device_date)\n",
    "    print(\"*\",all_device_device)\n",
    "    while i != len(all_device) and all_device_device[i] == all_device_device[i+1]:\n",
    "        if all_device_date[i] >= all_device_date[i+1]:\n",
    "            all_device_device.pop[i+1]\n",
    "        else:\n",
    "            all_device_device.pop[i]\n",
    "    else:\n",
    "        pass\n",
    "    print(all_device_device)'''\n"
   ]
  },
  {
   "cell_type": "code",
   "execution_count": 646,
   "metadata": {
    "scrolled": true
   },
   "outputs": [
    {
     "name": "stdout",
     "output_type": "stream",
     "text": [
      "['O:\\\\py\\\\I-01\\\\20180111_mufgSecuFw1Shc.txt', 'O:\\\\py\\\\J-01\\\\20180421_shcesw11.txt', 'O:\\\\py\\\\T-05\\\\20180723_mufgSecuFw1Shc.txt']\n"
     ]
    }
   ],
   "source": [
    "#print(all_device)\n",
    "#print(all_path_str)\n",
    "#筛选出对应config的对应path\n",
    "#all_path = all_path.split(\",\")\n",
    "#print(all_path)\n",
    "#all_path_ = all_path.replace(\"\\\\\", \"\\\")\n",
    "\n",
    "\n",
    "for i in range (0,len(all_device)):    \n",
    "    for j in range (0,len(all_path)):\n",
    "        if all_device[i] in all_path[j]:\n",
    "            path_t.append(all_path[j])\n",
    "        else:\n",
    "            pass\n",
    "print(path_t)\n"
   ]
  },
  {
   "cell_type": "code",
   "execution_count": 647,
   "metadata": {},
   "outputs": [
    {
     "name": "stdout",
     "output_type": "stream",
     "text": [
      "﻿20180111_mufgSecuFw1Shc\r\n",
      "20180111_mufgSecuFw1Shc\r\n",
      "20180111_mufgSecuFw1Shc\r\n",
      "20180111_mufgSecuFw1Shc\r\n",
      "20180111_mufgSecuFw1Shc\r\n",
      "20180111_mufgSecuFw1Shc\r\n",
      "20180111_mufgSecuFw1Shc\r\n",
      "20180111_mufgSecuFw1Shc\r\n",
      "\n",
      "﻿20180421_shcesw11\n",
      "﻿20180723_mufgSecuFw1Shc\n"
     ]
    }
   ],
   "source": [
    "#读取txt\n",
    "for i in range(0,len(path_t)):\n",
    "    f = open(path_t[i],'rb')\n",
    "    line = f.read().decode(\"utf-8\")\n",
    "    print(line)\n",
    "    f.close()\n"
   ]
  },
  {
   "cell_type": "code",
   "execution_count": null,
   "metadata": {
    "collapsed": true
   },
   "outputs": [],
   "source": []
  },
  {
   "cell_type": "code",
   "execution_count": null,
   "metadata": {
    "collapsed": true
   },
   "outputs": [],
   "source": []
  }
 ],
 "metadata": {
  "kernelspec": {
   "display_name": "Python 3",
   "language": "python",
   "name": "python3"
  },
  "language_info": {
   "codemirror_mode": {
    "name": "ipython",
    "version": 3
   },
   "file_extension": ".py",
   "mimetype": "text/x-python",
   "name": "python",
   "nbconvert_exporter": "python",
   "pygments_lexer": "ipython3",
   "version": "3.6.3"
  }
 },
 "nbformat": 4,
 "nbformat_minor": 2
}
