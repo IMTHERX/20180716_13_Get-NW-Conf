{
 "cells": [
  {
   "cell_type": "markdown",
   "metadata": {},
   "source": [
    "对于python的补充复习。"
   ]
  },
  {
   "cell_type": "markdown",
   "metadata": {},
   "source": [
    "1.创建类，根据dog类创建每个实例都将存储名字和年龄，我们赋予每个小狗蹲下和打滚的能力。"
   ]
  },
  {
   "cell_type": "code",
   "execution_count": 23,
   "metadata": {},
   "outputs": [
    {
     "name": "stdout",
     "output_type": "stream",
     "text": [
      "My dog's name is Jackbon!\n",
      "She is 3 years old!\n",
      "Jackbon is now sitting.\n",
      "Jackbon rolled over！\n",
      "\n",
      "Your dog's name is Babala!\n",
      "He is 5 years old!\n",
      "Babala is now sitting.\n",
      "Babala rolled over！\n"
     ]
    }
   ],
   "source": [
    "#创建类，在Python中，根据约定，首字母大写指的类；\n",
    "#（）因为我们要从空白创建这个类；\n",
    "#可将类视为有关如何创建实例的说明!<<<<<<<<<<<<\n",
    "class Dog():\n",
    "    '''一次模拟小狗的简单尝试'''\n",
    "    \n",
    "    #类中的函数被称为方法，之前所学有关函数的一切，都适用于方法；\n",
    "    #差别在于调用的方式。__init__是一个特殊方法，当你根据dog类创建新实例时，它会一起运行；\n",
    "    #“__”是一种约定，避免python默认方法与普通方法发生名称冲突。\n",
    "    def __init__ (self,name,age):\n",
    "        '''初始化姓名和年龄'''\n",
    "        self.name = name\n",
    "        self.age = age\n",
    "    \n",
    "    def sit(self):\n",
    "        '''模拟小狗被命令时蹲下'''\n",
    "        print(self.name.title() + \" is now sitting.\")\n",
    "    \n",
    "    def roll_over(self):\n",
    "        '''模拟小狗被命令时打滚'''\n",
    "        print(self.name.title() + \" rolled over！\")\n",
    "\n",
    "#创建实例\n",
    "my_dog = Dog(\"jackbon\",3)\n",
    "print(\"My dog's name is \" + my_dog.name.title() + \"!\")\n",
    "print(\"She is \" + str(my_dog.age) + \" years old!\")\n",
    "\n",
    "my_dog.sit()\n",
    "my_dog.roll_over()\n",
    "\n",
    "#创建多个实例\n",
    "your_dog = Dog(\"babala\",5)\n",
    "print(\"\\nYour dog's name is \" + your_dog.name.title() + \"!\")\n",
    "print(\"He is \" + str(your_dog.age) + \" years old!\")\n",
    "\n",
    "your_dog.sit()\n",
    "your_dog.roll_over()"
   ]
  },
  {
   "cell_type": "code",
   "execution_count": 35,
   "metadata": {},
   "outputs": [
    {
     "name": "stdout",
     "output_type": "stream",
     "text": [
      "2017 Lynco 01\n"
     ]
    }
   ],
   "source": [
    "class Car():\n",
    "       \n",
    "    def __init__ (self,make,model,year):\n",
    "        '''初始化汽车的属性'''\n",
    "        self.make = make\n",
    "        self.model = model\n",
    "        self.year = year\n",
    "        \n",
    "    def get_descriptive_name(self):\n",
    "        '''返回描述性说明'''\n",
    "        long_name = str(self.year)+\" \"+self.make+\" \"+self.model\n",
    "        return long_name.title()\n",
    "\n",
    "my_new_car = Car(\"lynco\",\"01\",\"2017\")\n",
    "print(my_new_car.get_descriptive_name())"
   ]
  },
  {
   "cell_type": "markdown",
   "metadata": {},
   "source": [
    "为了使它更加有趣，我们增加一个随时间变化的属性，存储骑车的总里程"
   ]
  },
  {
   "cell_type": "code",
   "execution_count": 48,
   "metadata": {},
   "outputs": [
    {
     "name": "stdout",
     "output_type": "stream",
     "text": [
      "2017 Lynco 01\n",
      "This car is 0 miles on it!\n",
      "This car is 23 miles on it!\n"
     ]
    }
   ],
   "source": [
    "class Car():\n",
    "       \n",
    "    def __init__ (self,make,model,year):\n",
    "        '''初始化汽车的属性'''\n",
    "        self.make = make\n",
    "        self.model = model\n",
    "        self.year = year\n",
    "        self.odometer_reading = 0 #!\n",
    "        \n",
    "    def get_descriptive_name(self):\n",
    "        '''返回描述性说明'''\n",
    "        long_name = str(self.year)+\" \"+self.make+\" \"+self.model\n",
    "        return long_name.title()\n",
    "    \n",
    "    def read_odometer(self): #!\n",
    "        print(\"This car is\",self.odometer_reading,\"miles on it!\")\n",
    "\n",
    "my_new_car = Car(\"lynco\",\"01\",\"2017\")\n",
    "print(my_new_car.get_descriptive_name())\n",
    "my_new_car.read_odometer()\n",
    "\n",
    "#直接修改属性值\n",
    "my_new_car.odometer_reading = 23\n",
    "my_new_car.read_odometer()\n",
    "\n"
   ]
  },
  {
   "cell_type": "code",
   "execution_count": 54,
   "metadata": {},
   "outputs": [
    {
     "name": "stdout",
     "output_type": "stream",
     "text": [
      "2017 Lynco 01\n",
      "This car is 0 miles on it!\n",
      "This car is 23 miles on it!\n"
     ]
    }
   ],
   "source": [
    "#通过方法修改属性值\n",
    "class Car():\n",
    "       \n",
    "    def __init__ (self,make,model,year):\n",
    "        '''初始化汽车的属性'''\n",
    "        self.make = make\n",
    "        self.model = model\n",
    "        self.year = year\n",
    "        self.odometer_reading = 0\n",
    "        \n",
    "    def get_descriptive_name(self):\n",
    "        '''返回描述性说明'''\n",
    "        long_name = str(self.year)+\" \"+self.make+\" \"+self.model\n",
    "        return long_name.title()\n",
    "\n",
    "    def read_odometer(self):\n",
    "        print(\"This car is\",self.odometer_reading,\"miles on it!\")\n",
    "        \n",
    "    def update_odometer(self,mileage):\n",
    "        self.odometer_reading = mileage\n",
    "        \n",
    "my_new_car = Car(\"lynco\",\"01\",\"2017\")\n",
    "print(my_new_car.get_descriptive_name())        \n",
    "my_new_car.read_odometer()\n",
    "my_new_car.update_odometer(23)\n",
    "my_new_car.read_odometer()"
   ]
  }
 ],
 "metadata": {
  "kernelspec": {
   "display_name": "Python 3",
   "language": "python",
   "name": "python3"
  },
  "language_info": {
   "codemirror_mode": {
    "name": "ipython",
    "version": 3
   },
   "file_extension": ".py",
   "mimetype": "text/x-python",
   "name": "python",
   "nbconvert_exporter": "python",
   "pygments_lexer": "ipython3",
   "version": "3.6.3"
  }
 },
 "nbformat": 4,
 "nbformat_minor": 2
}
