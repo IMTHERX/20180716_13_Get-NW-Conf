{
 "cells": [
  {
   "cell_type": "markdown",
   "metadata": {},
   "source": [
    "使用pexpect模块来完成和设备的交互操作，首先来实现一个基本的登录设备的操作。"
   ]
  },
  {
   "cell_type": "code",
   "execution_count": 12,
   "metadata": {
    "collapsed": true
   },
   "outputs": [],
   "source": [
    "import pexpect\n",
    "from pexpect import EOF,TIMEOUT"
   ]
  },
  {
   "cell_type": "code",
   "execution_count": 31,
   "metadata": {
    "collapsed": true
   },
   "outputs": [],
   "source": [
    "#定义ssh\n",
    "def ssh_connect(username,address,port):\n",
    "    ssh_command = \"ssh -o StrictHostKeyChecking=no -o UserKnownHostsFile=/dev/null -l %s %s -p %d\" % (username,address,port)\n",
    "    #print(ssh_command)\n",
    "    return pexpect.spawn(ssh_ssh_command)\n"
   ]
  },
  {
   "cell_type": "code",
   "execution_count": 3,
   "metadata": {},
   "outputs": [
    {
     "ename": "IndentationError",
     "evalue": "expected an indented block (<ipython-input-3-aecdc9aa0570>, line 4)",
     "output_type": "error",
     "traceback": [
      "\u001b[1;36m  File \u001b[1;32m\"<ipython-input-3-aecdc9aa0570>\"\u001b[1;36m, line \u001b[1;32m4\u001b[0m\n\u001b[1;33m    def __init__(self,device):\u001b[0m\n\u001b[1;37m      ^\u001b[0m\n\u001b[1;31mIndentationError\u001b[0m\u001b[1;31m:\u001b[0m expected an indented block\n"
     ]
    }
   ],
   "source": [
    "#定义一个设备的基本对象\n",
    "class Device(object):\n",
    "\n",
    "def __init__(self,device):\n",
    "    #初始化使用一个字典，包含以下key，value\n",
    "    #hostname，mgt_ip，username，password，port\n",
    "    self.hostname = device.get(\"hostname\")\n",
    "    self.mgt_ip = device.get(\"mgt_ip\")\n",
    "    self.username = device.get(\"username\")\n",
    "    self.password = device.get(\"password\")\n",
    "    self.port = device.get(\"port\",22)\n",
    "    self.expect_list = []\n",
    "    "
   ]
  },
  {
   "cell_type": "code",
   "execution_count": 6,
   "metadata": {
    "collapsed": true
   },
   "outputs": [],
   "source": [
    "def connect(self,timeout=30):\n",
    "    #定义一个创建ssh的功能\n",
    "    self.c = ssh_connect(self.username,self.mgt_port,self.port)\n",
    "    self.c.delaybeforesend = 0.1\n",
    "    return c"
   ]
  },
  {
   "cell_type": "code",
   "execution_count": 17,
   "metadata": {},
   "outputs": [],
   "source": [
    "def login(self,prompt=r\"[>|#|$|]\\S?$\"):\n",
    "    #定义登录设备的基本功能\n",
    "    #在登录时，遇到提示如username，或login，输入用户名\n",
    "    #提示password时候，输入密码\n",
    "    #登录完成后，通过>,#,$判断所在模式\n",
    "    self.expect_list = []\n",
    "    self.expect_list.append(r\"(?i)username[:]?\\s*$\")\n",
    "    self.expect_list.append(r\"(?i)login[:]?\\s*$\")\n",
    "    self.expect_list.append(r\"(?i)password[:]?\\s*$\")\n",
    "    self.expect_list.append(prompt)\n",
    "    \n",
    "    for _ in range (0,2):\n",
    "        result=[]\n",
    "        try:\n",
    "            i = self.c.expect(self,expect_list,timeout=5)\n",
    "            result.append(i)\n",
    "            result.append(str(self.c.before))\n",
    "            result.append(str(self.c.after))\n",
    "            if i < 2:\n",
    "                self.c.sendline(self.username)\n",
    "            elif i == 2:\n",
    "                self.c.sendline(self.password)\n",
    "            elif i == 3:\n",
    "                break\n",
    "        except EOF:\n",
    "            break\n",
    "        except TIMEOUT:\n",
    "            print(\"connect to %s timeout\" %self.hostname)\n",
    "            break        \n",
    "    #当设备一直停在用户名或者密码的时候，那么可能用户名或密码错误\n",
    "    #使用log或记录log更好，以下print输出，为了方便。\n",
    "    if result[0] < 3:\n",
    "        print(\"username or password error!\")\n",
    "        return result\n",
    "    #大部分网络设备输出内容时，会有默认的分屏功能，类似ter len x\n",
    "    #所以设置其长度为0\n",
    "    self._set_terminal_length_zero()\n",
    "    return result"
   ]
  },
  {
   "cell_type": "code",
   "execution_count": 18,
   "metadata": {},
   "outputs": [],
   "source": [
    "#这里定义的函数，并没有完成其具体实现的代码。具体的实现，可以在子类中完成\n",
    "def get_config(self):\n",
    "    pass\n",
    "\n",
    "#定义一个退出的方法。当退出时或者这个对象被删除的时候，关闭ssh进程。\n",
    "def logout(self):\n",
    "    if self.c:\n",
    "        self.c.terminate()\n",
    "def __del__(self):\n",
    "    self.logout()"
   ]
  },
  {
   "cell_type": "code",
   "execution_count": 30,
   "metadata": {},
   "outputs": [
    {
     "ename": "IndentationError",
     "evalue": "expected an indented block (<ipython-input-30-5818c71540f6>, line 6)",
     "output_type": "error",
     "traceback": [
      "\u001b[1;36m  File \u001b[1;32m\"<ipython-input-30-5818c71540f6>\"\u001b[1;36m, line \u001b[1;32m6\u001b[0m\n\u001b[1;33m    super(JUNOS,self).__init__(device)\u001b[0m\n\u001b[1;37m        ^\u001b[0m\n\u001b[1;31mIndentationError\u001b[0m\u001b[1;31m:\u001b[0m expected an indented block\n"
     ]
    }
   ],
   "source": [
    "#这个子类是专门针对JUNOS的子类。\n",
    "#在这个类中，需要对付类Device进行部分修改，使其符合JUNOS class JUNOS（Device）：\n",
    "class JUNOS(Device):\n",
    "    def __init__ (self,device):\n",
    "        #先执行其父类Device的初始化方法\n",
    "    super(JUNOS,self).__init__(device)\n",
    "        #由于junos的设备提示符是固定的，为：“登陆的用户名@主机名”，最后使用>（操作模式）或#（配置模式）。\n",
    "    self.prompt = self.username + \"@\" + self.hostname + \"[>|#]\"\n",
    "    \n",
    "    def login(self,prompt=\"\"):\n",
    "    #修改为了junos的提示符\n",
    "        if not prompt:\n",
    "            prompt = self.prompt\n",
    "        return super(JUNOS,self).login(prompt)\n",
    "    \n",
    "    def get_config(self):\n",
    "        #这个方法在父类中没有实现，在子类中，具体实现。\n",
    "        #首先定义设备的提示符信息\n",
    "        self.expect_list = []\n",
    "        self.expect_list.append(self.prompt)\n",
    "        result = []\n",
    "        #通过show config命令来获取配置信息\n",
    "        self.c.sendline(\"show config | no-more\")\n",
    "        try:\n",
    "            i = self.c.expect(self.expect_list,timeout=5)\n",
    "            if i == 0:\n",
    "                result.append(0)\n",
    "                result.append((self.c.before + self.c.after).decode())\n",
    "            except EOF:\n",
    "                pass\n",
    "            except TIMEOUT:\n",
    "                print(\"session timeout\")\n",
    "            return result"
   ]
  },
  {
   "cell_type": "code",
   "execution_count": 29,
   "metadata": {},
   "outputs": [
    {
     "ename": "NameError",
     "evalue": "name 'JUNOS' is not defined",
     "output_type": "error",
     "traceback": [
      "\u001b[1;31m---------------------------------------------------------------------------\u001b[0m",
      "\u001b[1;31mNameError\u001b[0m                                 Traceback (most recent call last)",
      "\u001b[1;32m<ipython-input-29-2cb11c21102c>\u001b[0m in \u001b[0;36m<module>\u001b[1;34m()\u001b[0m\n\u001b[0;32m      9\u001b[0m     }\n\u001b[0;32m     10\u001b[0m     \u001b[1;31m#初始化junos这个类\u001b[0m\u001b[1;33m\u001b[0m\u001b[1;33m\u001b[0m\u001b[0m\n\u001b[1;32m---> 11\u001b[1;33m     \u001b[0mconn\u001b[0m \u001b[1;33m=\u001b[0m \u001b[0mJUNOS\u001b[0m\u001b[1;33m(\u001b[0m\u001b[0md\u001b[0m\u001b[1;33m)\u001b[0m\u001b[1;33m\u001b[0m\u001b[0m\n\u001b[0m\u001b[0;32m     12\u001b[0m     \u001b[1;31m#连接到设备\u001b[0m\u001b[1;33m\u001b[0m\u001b[1;33m\u001b[0m\u001b[0m\n\u001b[0;32m     13\u001b[0m     \u001b[0mconn\u001b[0m\u001b[1;33m.\u001b[0m\u001b[0mconnect\u001b[0m\u001b[1;33m(\u001b[0m\u001b[1;33m)\u001b[0m\u001b[1;33m\u001b[0m\u001b[0m\n",
      "\u001b[1;31mNameError\u001b[0m: name 'JUNOS' is not defined"
     ]
    }
   ],
   "source": [
    "#当此代码运行时，这里就是程序的入口\n",
    "if __name__ == \"__main__\":\n",
    "    #定义测试用的设备信息\n",
    "    d = {\n",
    "        \"hostname\":\"vMX-1\",\n",
    "        \"mgt_ip\":\"192.168.123.33\",\n",
    "        \"username\":\"admim\",\n",
    "        \"password\":\"lab123\",\n",
    "    }\n",
    "    #初始化junos这个类\n",
    "    conn = JUNOS(d)\n",
    "    #连接到设备\n",
    "    conn.connect()\n",
    "    #通过用户名，密码登录设备\n",
    "    conn.login()\n",
    "    #获取设备的信息\n",
    "    print(conn.get_config())\n",
    "    "
   ]
  }
 ],
 "metadata": {
  "kernelspec": {
   "display_name": "Python 3",
   "language": "python",
   "name": "python3"
  },
  "language_info": {
   "codemirror_mode": {
    "name": "ipython",
    "version": 3
   },
   "file_extension": ".py",
   "mimetype": "text/x-python",
   "name": "python",
   "nbconvert_exporter": "python",
   "pygments_lexer": "ipython3",
   "version": "3.6.3"
  }
 },
 "nbformat": 4,
 "nbformat_minor": 2
}
